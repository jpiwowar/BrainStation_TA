{
 "cells": [
  {
   "cell_type": "markdown",
   "metadata": {},
   "source": [
    "# Hi!  It's Tooltip time again."
   ]
  },
  {
   "cell_type": "markdown",
   "metadata": {},
   "source": [
    "Are you editing a cell (Edit mode), or just selecting it (Command mode)?  \n",
    "How can you tell?\n",
    "1. Is there a cursor?\n",
    "1. What color is the sidebar (green in standard Jupyter Notebook - active edit, blue - just selected)"
   ]
  },
  {
   "cell_type": "markdown",
   "metadata": {},
   "source": [
    "## That's cool John, but why do you care so much?\n",
    "We're going to talk about keyboard shortcuts, because switching to use a mouse or trackpad is an awesome way to lose focus.  Some of these things you'll have already seen in lecture, so this just reinforces them.\n",
    "1. If you've selected a cell and want to edit, hit < ENTER >\n",
    "1. If you want to stop editing and enter command mode, hit < ESC >"
   ]
  },
  {
   "cell_type": "markdown",
   "metadata": {},
   "source": [
    "## Navigate and create\n",
    "1. Outside of edit mode, use arrow keys to move between cells\n",
    "1. Use 'a' to create a new cell **a**bove your current one\n",
    "1. Use 'b' to create a new cell **b**elow your current one"
   ]
  },
  {
   "cell_type": "markdown",
   "metadata": {},
   "source": [
    "## Cell types\n",
    "The type of cells in a notebook aren't new to you by now.  You can change a cell's type with a keyboard shortcut:\n",
    "1. Code - y\n",
    "1. Markdown - m\n",
    "1. Raw text - r  \n",
    "\n",
    "\n",
    "This is mostly useful in two circumstances:\n",
    "\n",
    "1. Switching the default \"new cell\" from Code to Markdown mode\n",
    "2. Switching from accidentally-entered Raw mode to whatever you intended the cell to be"
   ]
  },
  {
   "cell_type": "markdown",
   "metadata": {},
   "source": [
    "### This cell is markdown...for now\n"
   ]
  },
  {
   "cell_type": "markdown",
   "metadata": {},
   "source": [
    "## A slightly dangerous but useful thing...\n",
    "To delete a cell, leave edit mode and hit 'd' twice\n"
   ]
  },
  {
   "cell_type": "markdown",
   "metadata": {},
   "source": [
    "Demolition demo (demo^2)"
   ]
  },
  {
   "cell_type": "markdown",
   "metadata": {},
   "source": [
    "## What about undo?\n",
    "1. In edit mode, cmd-Z (or ctrl-Z on windows?) does the usual thing...it will undo the last action\n",
    "1. Outside of edit mode, 'z' will undo _some_ cell-level operations (like delete, which is kinda handy)\n",
    "1. Fun fact! Each cell retains its own undo history.  cmd-z in one cell shouldn't affect the contents of another."
   ]
  },
  {
   "cell_type": "markdown",
   "metadata": {},
   "source": [
    "# Fun with editing\n",
    "You might be thinking, \"Editing? Hey, I was told there would be no code.\" This is all about formatting; comprehension of the code examples is not necessary.\n",
    "\n",
    "Note that some of these things aren't specific to Jupyter notebooks; other editing environments will behave in similar ways."
   ]
  },
  {
   "cell_type": "markdown",
   "metadata": {},
   "source": [
    "## Usually-helpful starters\n",
    "\n",
    "To prevent time lost from chasing bugs related to unclosed brackets and quotes, when you start a set of those in a code block, you'll get two:"
   ]
  },
  {
   "cell_type": "code",
   "execution_count": null,
   "metadata": {},
   "outputs": [],
   "source": [
    "#Single quotes\n",
    "\n",
    "#Double quotes\n",
    "\n",
    "#Parens\n",
    "\n",
    "#Brackets\n",
    "\n",
    "#Braces\n",
    "\n",
    "# Useful habit for f-strings: start the quotes, then add the f:\n",
    "my_var=5\n",
    "#print(f'my_var is {my_var}')\n"
   ]
  },
  {
   "cell_type": "markdown",
   "metadata": {},
   "source": [
    "## Keeping long lines tidy\n",
    "As with our SQL lessons, for readability it helps to not have lines of code that stretch on forever.\n",
    "It takes some practice to learn what a \"legal\" line break looks like in your Python code.  One general rule of thumb is that if your line is separated by commas, then you can keep things cleaner by breaking a line at the commas:"
   ]
  },
  {
   "cell_type": "code",
   "execution_count": null,
   "metadata": {},
   "outputs": [],
   "source": [
    "my_fav_things = [ \"raindrops on roses\", \"whiskers on kittens\", \"bright copper kettles\", \"warm woolen mittens\", \"Brown paper packages tied up with strings\" ]\n",
    "\n",
    "#Break on commas\n",
    "\n",
    "#Use \\ to break elsewhere\n"
   ]
  },
  {
   "cell_type": "markdown",
   "metadata": {},
   "source": [
    "## Selecting text"
   ]
  },
  {
   "cell_type": "raw",
   "metadata": {},
   "source": [
    "Double-click on a word to select it.  Triple-click to select an entire line.\n",
    "Don't quote me on this, but sometimes things get \"weird.\"\n",
    "Hold shift and use arrow keys to select text.\n",
    "Hold option-shift to select by \"word.\" (I think that's 'alt-shift' for the Windows folks)."
   ]
  },
  {
   "cell_type": "markdown",
   "metadata": {},
   "source": [
    "## Indentation"
   ]
  },
  {
   "cell_type": "code",
   "execution_count": null,
   "metadata": {},
   "outputs": [],
   "source": [
    "print('This is a contrived example,',\n",
    "'but since indentation is important in Python,',\n",
    "'you may be in a situation where you want to indent',\n",
    "'multiple lines at once.')\n",
    "\n",
    "#To make that happen, highlight all the lines you want to indent\n",
    "#Then hit <tab>\n",
    "#Ta-da!"
   ]
  },
  {
   "cell_type": "markdown",
   "metadata": {},
   "source": [
    "## Comments"
   ]
  },
  {
   "cell_type": "code",
   "execution_count": null,
   "metadata": {},
   "outputs": [],
   "source": [
    "print('Sometimes you might write a bunch of code.')\n",
    "print('And then do some really weird stuff in the middle.')\n",
    "print('Maybe you want to skip the weird stuff temporarily.')\n",
    "print('You could comment each line individually...')\n",
    "print('...but that is really tedious.')\n",
    "print('It would be nice if there were an easier way.')\n",
    "print('I have good news for you.')\n",
    "\n",
    "# Highlight the lines you want to comment\n",
    "# Hit ctrl+/\n",
    "# Do it again to remove the comments."
   ]
  },
  {
   "cell_type": "markdown",
   "metadata": {},
   "source": [
    "## Really wild things\n",
    "For an animated demo of this, check this [blog post](http://swanintelligence.com/multi-cursor-in-jupyter.html)\n"
   ]
  },
  {
   "cell_type": "code",
   "execution_count": null,
   "metadata": {},
   "outputs": [],
   "source": [
    "#Select the list below (with mouse/trackpad) while holding Alt key.\n",
    "#When you see a cursor that spans multiple lines, you can do magic\n",
    "\n",
    "spam\n",
    "ham\n",
    "eggs\n",
    "bacn"
   ]
  },
  {
   "cell_type": "code",
   "execution_count": null,
   "metadata": {},
   "outputs": [],
   "source": [
    "#And of course it also works in reverse...\n",
    "breakfast=\\\n",
    "[\n",
    "'spam',\n",
    "'ham',\n",
    "'eggs',\n",
    "'bacn' \n",
    "] "
   ]
  },
  {
   "cell_type": "markdown",
   "metadata": {},
   "source": [
    "# Bonus stuff\n",
    "## Why Jupyterlab?\n",
    "\n",
    "1. Smoother management of multiple notebooks (tabs, folder navigation, running kernels)\n",
    "1. Dark mode! Whee!\n",
    "1. Split view for notebook\n",
    "1. Extensions - [Table of Contents](https://github.com/jupyterlab/jupyterlab-toc) at a minimum is very helpful\n",
    "\n",
    "To launch:\n",
    "\n",
    "1. Anaconda Navigator\n",
    "1. Command line/terminal:\n",
    "\n",
    "\n",
    "        jupyter lab <path to notebook>"
   ]
  },
  {
   "cell_type": "markdown",
   "metadata": {},
   "source": [
    "### Setting up JupyterLab TOC\n",
    "From your terminal:\n",
    "\n",
    "    conda install nodejs\n",
    "    jupyter labextension install @jupyterlab/toc\n",
    "\n",
    "After extension is installed, refresh the browser tab that's running Jupyter Lab, and the TOC extension will appear at the bottom of the list of icons on the left of the interface.\n"
   ]
  },
  {
   "cell_type": "markdown",
   "metadata": {},
   "source": [
    "## Accessing docstrings\n",
    "Shift-tab may become one of your best friends."
   ]
  },
  {
   "cell_type": "code",
   "execution_count": null,
   "metadata": {},
   "outputs": [],
   "source": [
    "def my_func (x,y=\"Why not?\"):\n",
    "    '''\n",
    "    Purpose: Prints two strings\n",
    "    x: The first string\n",
    "    y: The second string, assuming you remember to pass it in\n",
    "    '''\n",
    "    print(f'x is {x}\\ny is {y}')"
   ]
  },
  {
   "cell_type": "code",
   "execution_count": null,
   "metadata": {},
   "outputs": [],
   "source": [
    "my_func()"
   ]
  },
  {
   "cell_type": "markdown",
   "metadata": {},
   "source": [
    "It doesn't seem like much, but as we move into dealing with all the methods available in numpy and pandas, and the various libraries for plotting and modeling, it will be a huge time-saver to have the documentation literally \"at your fingertips\" instead of switching out to another browser window to search for syntax."
   ]
  },
  {
   "cell_type": "markdown",
   "metadata": {},
   "source": [
    "## Tab completion\n",
    "This isn't really a \"bonus\" topic; it's something you should use heavily.  It's easier to show at the end, however, because we've already defined a lot of variables and functions.\n",
    "\n",
    "Why do we care?\n",
    "1. Less typing, of course.\n",
    "2. Fewer typos: no chasing bugs because you transposed two letters in a variable name or function"
   ]
  },
  {
   "cell_type": "code",
   "execution_count": null,
   "metadata": {},
   "outputs": [],
   "source": [
    "break\n",
    "my_"
   ]
  }
 ],
 "metadata": {
  "kernelspec": {
   "display_name": "Python 3",
   "language": "python",
   "name": "python3"
  },
  "language_info": {
   "codemirror_mode": {
    "name": "ipython",
    "version": 3
   },
   "file_extension": ".py",
   "mimetype": "text/x-python",
   "name": "python",
   "nbconvert_exporter": "python",
   "pygments_lexer": "ipython3",
   "version": "3.7.6"
  },
  "toc-showcode": false,
  "toc-showtags": false
 },
 "nbformat": 4,
 "nbformat_minor": 4
}
